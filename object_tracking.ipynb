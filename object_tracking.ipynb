{
 "cells": [
  {
   "cell_type": "code",
   "execution_count": 11,
   "metadata": {},
   "outputs": [],
   "source": [
    "\n",
    "# Import modules\n",
    "import cv2\n",
    "import numpy as np\n",
    "\n",
    "# Create a VideoCapture Object\n",
    "cap = cv2.VideoCapture(r'C:/Users/jithi/Desktop/lemon.mp4')\n",
    "\n",
    "if cap.isOpened() == False:\n",
    "    print(\"Error opening video\")\n",
    "\n",
    "cv2.namedWindow(\"Input Video\", cv2.WINDOW_NORMAL)\n",
    "cv2.namedWindow(\"Output Video\", cv2.WINDOW_NORMAL)\n",
    "cv2.namedWindow(\"Hue\", cv2.WINDOW_NORMAL)\n",
    "\n",
    "while True:\n",
    "    # capture frame\n",
    "    ret, frame = cap.read()\n",
    "\n",
    "    if ret == False:\n",
    "        break\n",
    "    \n",
    "    # Convert frame to HSV\n",
    "    hsv = cv2.cvtColor(frame, cv2.COLOR_BGR2HSV)\n",
    "    \n",
    "    # Obtain Hue channel\n",
    "    h = hsv[:,:,0]\n",
    "\n",
    "    # Apply thresholding\n",
    "    hCopy = h.copy()\n",
    "    h[hCopy>50] = 0\n",
    "    h[hCopy<=50] = 1\n",
    "\n",
    "    # Display frame\n",
    "    cv2.imshow(\"Input Video\", frame)\n",
    "    cv2.imshow(\"Output Video\", frame*h[:,:,np.newaxis])\n",
    "    cv2.imshow(\"Hue\", h*255)\n",
    "\n",
    "    k = cv2.waitKey(10)\n",
    "    if k == 27:\n",
    "        break\n",
    "\n",
    "cap.release()\n",
    "cv2.destroyAllWindows()"
   ]
  },
  {
   "cell_type": "code",
   "execution_count": 7,
   "metadata": {},
   "outputs": [],
   "source": [
    "import numpy as np\n",
    "import cv2\n",
    "\n",
    "cap = cv2.VideoCapture(0)\n",
    "\n",
    "while(True):\n",
    "    # Capture frame-by-frame\n",
    "    ret, frame = cap.read()\n",
    "\n",
    "    # Our operations on the frame come here\n",
    "    gray = cv2.cvtColor(frame, cv2.COLOR_BGR2GRAY)\n",
    "\n",
    "    # Display the resulting frame\n",
    "    cv2.imshow('frame',gray)\n",
    "    if cv2.waitKey(1) & 0xFF == ord('q'):\n",
    "        break\n",
    "\n",
    "# When everything done, release the capture\n",
    "cap.release()\n",
    "cv2.destroyAllWindows()"
   ]
  },
  {
   "cell_type": "code",
   "execution_count": null,
   "metadata": {},
   "outputs": [],
   "source": []
  }
 ],
 "metadata": {
  "kernelspec": {
   "display_name": "Python 3",
   "language": "python",
   "name": "python3"
  },
  "language_info": {
   "codemirror_mode": {
    "name": "ipython",
    "version": 3
   },
   "file_extension": ".py",
   "mimetype": "text/x-python",
   "name": "python",
   "nbconvert_exporter": "python",
   "pygments_lexer": "ipython3",
   "version": "3.7.6"
  }
 },
 "nbformat": 4,
 "nbformat_minor": 4
}
